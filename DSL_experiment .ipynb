{
 "cells": [
  {
   "cell_type": "code",
   "execution_count": 1,
   "metadata": {},
   "outputs": [],
   "source": [
    "def create_matrix():\n",
    "    print(\"Enter number of rows and columns for the matrix -> space seperated\")\n",
    "    row ,col = map(int,input().split())\n",
    "    print(\"Enter elements in matrix representation\")\n",
    "    print (\"for example for 2X2 matrix if elements are a,b,c,d\")\n",
    "    print(\"format = \")\n",
    "    print(\"a b\")\n",
    "    print(\"c d\")\n",
    "    matrix = list()\n",
    "    for i in range(row):\n",
    "        matrix.append(list())\n",
    "        for j in input().split():\n",
    "            matrix[-1].append(int(j))\n",
    "    return matrix\n",
    "class Matrix:\n",
    "    def add(first,second):\n",
    "        if len(first)!=len(second) or len(first[-1]) != len(second[-1]):\n",
    "            print(\"Matrices cannot be added!! check order of matrices before adding\")\n",
    "            return \n",
    "        else:\n",
    "            matrix = list()\n",
    "            for i in range(len(first[0])):\n",
    "                matrix.append(list())\n",
    "            for i in range(len(first)):\n",
    "                for j in range(len(first[0])):\n",
    "                    matrix[i].append(first[i][j] + second[i][j])\n",
    "            if len(matrix[-1]) == 0:\n",
    "                matrix.pop()\n",
    "            return matrix\n",
    "    def multiply(first,second):\n",
    "        if len(first[0]) != len(second):\n",
    "            print(\"matrices cannot be multiplied\")\n",
    "            return \n",
    "        else:\n",
    "            matrix = list()\n",
    "            for i in range(len(first)):\n",
    "                matrix.append(list())\n",
    "                for j in range(len(second[0])):\n",
    "                    matrix[-1].append(0)\n",
    "            for i in range(len(first)):\n",
    "                for j in range(len(second[0])):\n",
    "                    for k in range(len(second)):\n",
    "                        matrix[i][j] += first[i][k]*second[k][j]\n",
    "            return matrix\n",
    "    def transpose(first):\n",
    "        matrix = list()\n",
    "        r = len(first)\n",
    "        c = len(first[0])\n",
    "        for i in range(c):\n",
    "            matrix.append(list())\n",
    "            for j in range(r):\n",
    "                matrix[-1].append(0)\n",
    "        for i in range(r):\n",
    "            for j in range(c):\n",
    "                matrix[j][i] = first[i][j]\n",
    "        return matrix"
   ]
  },
  {
   "cell_type": "code",
   "execution_count": null,
   "metadata": {},
   "outputs": [
    {
     "name": "stdout",
     "output_type": "stream",
     "text": [
      "Enter number of rows and columns for the matrix -> space seperated\n",
      "2 2\n",
      "Enter elements in matrix representation\n",
      "for example for 2X2 matrix if elements are a,b,c,d\n",
      "format = \n",
      "a b\n",
      "c d\n",
      "2 3\n",
      "4 5\n",
      "Enter number of rows and columns for the matrix -> space seperated\n"
     ]
    }
   ],
   "source": [
    "a = create_matrix()\n",
    "b = create_matrix()"
   ]
  },
  {
   "cell_type": "code",
   "execution_count": null,
   "metadata": {},
   "outputs": [],
   "source": []
  }
 ],
 "metadata": {
  "kernelspec": {
   "display_name": "Python 3",
   "language": "python",
   "name": "python3"
  },
  "language_info": {
   "codemirror_mode": {
    "name": "ipython",
    "version": 3
   },
   "file_extension": ".py",
   "mimetype": "text/x-python",
   "name": "python",
   "nbconvert_exporter": "python",
   "pygments_lexer": "ipython3",
   "version": "3.7.3"
  }
 },
 "nbformat": 4,
 "nbformat_minor": 2
}
